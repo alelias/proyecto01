{
 "cells": [
  {
   "cell_type": "code",
   "execution_count": 1,
   "id": "968d8bb6",
   "metadata": {},
   "outputs": [],
   "source": [
    "import pandas as pd"
   ]
  },
  {
   "cell_type": "code",
   "execution_count": null,
   "id": "88a34e19",
   "metadata": {},
   "outputs": [],
   "source": [
    "#1. Columna 1 = Gasto/Ventas*100.\n",
    "#2. Columna 2 = Si Ventas>= 30000, imprimir “Meta Superada”,caso contrario imprimir “Meta no Superada”.\n",
    "#3. Columna 3 = Si Gasto>Ventas, calcular el sobre gasto.\n",
    "#4. Obtener el total de las ventas de los últimos 3 meses\n",
    "#5. Obtener el total de gastos de febrero a abril"
   ]
  },
  {
   "cell_type": "code",
   "execution_count": 67,
   "id": "c80d6497",
   "metadata": {},
   "outputs": [],
   "source": [
    "#diccionario\n",
    "ingresos = [\n",
    "    {\"Mes\": \"Enero\", \"Ventas\":30500,\"Gastos\":22000},\n",
    "    {\"Mes\": \"Febrero\", \"Ventas\":35600,\"Gastos\":23450},\n",
    "    {\"Mes\": \"Marzo\", \"Ventas\":28300,\"Gastos\":18100},\n",
    "    {\"Mes\": \"Abril\", \"Ventas\":33900,\"Gastos\":35700},\n",
    "    {\"Mes\": \"Mayo\", \"Ventas\":42500,\"Gastos\":32450}\n",
    "]"
   ]
  },
  {
   "cell_type": "code",
   "execution_count": 68,
   "id": "b430b849",
   "metadata": {},
   "outputs": [],
   "source": [
    "#crear dataframe de ingresos\n",
    "df = pd.DataFrame(ingresos)"
   ]
  },
  {
   "cell_type": "code",
   "execution_count": 69,
   "id": "7832327c",
   "metadata": {},
   "outputs": [],
   "source": [
    "#indexar por mes\n",
    "df = df.set_index('Mes')"
   ]
  },
  {
   "cell_type": "code",
   "execution_count": 70,
   "id": "38bf0923",
   "metadata": {},
   "outputs": [
    {
     "data": {
      "text/html": [
       "<div>\n",
       "<style scoped>\n",
       "    .dataframe tbody tr th:only-of-type {\n",
       "        vertical-align: middle;\n",
       "    }\n",
       "\n",
       "    .dataframe tbody tr th {\n",
       "        vertical-align: top;\n",
       "    }\n",
       "\n",
       "    .dataframe thead th {\n",
       "        text-align: right;\n",
       "    }\n",
       "</style>\n",
       "<table border=\"1\" class=\"dataframe\">\n",
       "  <thead>\n",
       "    <tr style=\"text-align: right;\">\n",
       "      <th></th>\n",
       "      <th>Ventas</th>\n",
       "      <th>Gastos</th>\n",
       "    </tr>\n",
       "    <tr>\n",
       "      <th>Mes</th>\n",
       "      <th></th>\n",
       "      <th></th>\n",
       "    </tr>\n",
       "  </thead>\n",
       "  <tbody>\n",
       "    <tr>\n",
       "      <th>Enero</th>\n",
       "      <td>30500</td>\n",
       "      <td>22000</td>\n",
       "    </tr>\n",
       "    <tr>\n",
       "      <th>Febrero</th>\n",
       "      <td>35600</td>\n",
       "      <td>23450</td>\n",
       "    </tr>\n",
       "    <tr>\n",
       "      <th>Marzo</th>\n",
       "      <td>28300</td>\n",
       "      <td>18100</td>\n",
       "    </tr>\n",
       "    <tr>\n",
       "      <th>Abril</th>\n",
       "      <td>33900</td>\n",
       "      <td>35700</td>\n",
       "    </tr>\n",
       "    <tr>\n",
       "      <th>Mayo</th>\n",
       "      <td>42500</td>\n",
       "      <td>32450</td>\n",
       "    </tr>\n",
       "  </tbody>\n",
       "</table>\n",
       "</div>"
      ],
      "text/plain": [
       "         Ventas  Gastos\n",
       "Mes                    \n",
       "Enero     30500   22000\n",
       "Febrero   35600   23450\n",
       "Marzo     28300   18100\n",
       "Abril     33900   35700\n",
       "Mayo      42500   32450"
      ]
     },
     "execution_count": 70,
     "metadata": {},
     "output_type": "execute_result"
    }
   ],
   "source": [
    "df"
   ]
  },
  {
   "cell_type": "code",
   "execution_count": 71,
   "id": "c7a477fb",
   "metadata": {},
   "outputs": [],
   "source": [
    "#calculo de columna 1\n",
    "df['Columna1'] = (df['Gastos']/df['Ventas'])*100"
   ]
  },
  {
   "cell_type": "code",
   "execution_count": 72,
   "id": "da5e17af",
   "metadata": {
    "scrolled": true
   },
   "outputs": [
    {
     "data": {
      "text/html": [
       "<div>\n",
       "<style scoped>\n",
       "    .dataframe tbody tr th:only-of-type {\n",
       "        vertical-align: middle;\n",
       "    }\n",
       "\n",
       "    .dataframe tbody tr th {\n",
       "        vertical-align: top;\n",
       "    }\n",
       "\n",
       "    .dataframe thead th {\n",
       "        text-align: right;\n",
       "    }\n",
       "</style>\n",
       "<table border=\"1\" class=\"dataframe\">\n",
       "  <thead>\n",
       "    <tr style=\"text-align: right;\">\n",
       "      <th></th>\n",
       "      <th>Ventas</th>\n",
       "      <th>Gastos</th>\n",
       "      <th>Columna1</th>\n",
       "    </tr>\n",
       "    <tr>\n",
       "      <th>Mes</th>\n",
       "      <th></th>\n",
       "      <th></th>\n",
       "      <th></th>\n",
       "    </tr>\n",
       "  </thead>\n",
       "  <tbody>\n",
       "    <tr>\n",
       "      <th>Enero</th>\n",
       "      <td>30500</td>\n",
       "      <td>22000</td>\n",
       "      <td>72.131148</td>\n",
       "    </tr>\n",
       "    <tr>\n",
       "      <th>Febrero</th>\n",
       "      <td>35600</td>\n",
       "      <td>23450</td>\n",
       "      <td>65.870787</td>\n",
       "    </tr>\n",
       "    <tr>\n",
       "      <th>Marzo</th>\n",
       "      <td>28300</td>\n",
       "      <td>18100</td>\n",
       "      <td>63.957597</td>\n",
       "    </tr>\n",
       "    <tr>\n",
       "      <th>Abril</th>\n",
       "      <td>33900</td>\n",
       "      <td>35700</td>\n",
       "      <td>105.309735</td>\n",
       "    </tr>\n",
       "    <tr>\n",
       "      <th>Mayo</th>\n",
       "      <td>42500</td>\n",
       "      <td>32450</td>\n",
       "      <td>76.352941</td>\n",
       "    </tr>\n",
       "  </tbody>\n",
       "</table>\n",
       "</div>"
      ],
      "text/plain": [
       "         Ventas  Gastos    Columna1\n",
       "Mes                                \n",
       "Enero     30500   22000   72.131148\n",
       "Febrero   35600   23450   65.870787\n",
       "Marzo     28300   18100   63.957597\n",
       "Abril     33900   35700  105.309735\n",
       "Mayo      42500   32450   76.352941"
      ]
     },
     "execution_count": 72,
     "metadata": {},
     "output_type": "execute_result"
    }
   ],
   "source": [
    "df"
   ]
  },
  {
   "cell_type": "code",
   "execution_count": 73,
   "id": "67f12e20",
   "metadata": {},
   "outputs": [],
   "source": [
    "import numpy as np"
   ]
  },
  {
   "cell_type": "code",
   "execution_count": 74,
   "id": "e2ccf3ff",
   "metadata": {},
   "outputs": [],
   "source": [
    "#calculo columna 2\n",
    "df['Columna2'] = np.where(df['Ventas'] >=30000, \"Meta Superada\", \"Meta no Superada\")"
   ]
  },
  {
   "cell_type": "code",
   "execution_count": 75,
   "id": "fe757d8a",
   "metadata": {},
   "outputs": [
    {
     "data": {
      "text/html": [
       "<div>\n",
       "<style scoped>\n",
       "    .dataframe tbody tr th:only-of-type {\n",
       "        vertical-align: middle;\n",
       "    }\n",
       "\n",
       "    .dataframe tbody tr th {\n",
       "        vertical-align: top;\n",
       "    }\n",
       "\n",
       "    .dataframe thead th {\n",
       "        text-align: right;\n",
       "    }\n",
       "</style>\n",
       "<table border=\"1\" class=\"dataframe\">\n",
       "  <thead>\n",
       "    <tr style=\"text-align: right;\">\n",
       "      <th></th>\n",
       "      <th>Ventas</th>\n",
       "      <th>Gastos</th>\n",
       "      <th>Columna1</th>\n",
       "      <th>Columna2</th>\n",
       "    </tr>\n",
       "    <tr>\n",
       "      <th>Mes</th>\n",
       "      <th></th>\n",
       "      <th></th>\n",
       "      <th></th>\n",
       "      <th></th>\n",
       "    </tr>\n",
       "  </thead>\n",
       "  <tbody>\n",
       "    <tr>\n",
       "      <th>Enero</th>\n",
       "      <td>30500</td>\n",
       "      <td>22000</td>\n",
       "      <td>72.131148</td>\n",
       "      <td>Meta Superada</td>\n",
       "    </tr>\n",
       "    <tr>\n",
       "      <th>Febrero</th>\n",
       "      <td>35600</td>\n",
       "      <td>23450</td>\n",
       "      <td>65.870787</td>\n",
       "      <td>Meta Superada</td>\n",
       "    </tr>\n",
       "    <tr>\n",
       "      <th>Marzo</th>\n",
       "      <td>28300</td>\n",
       "      <td>18100</td>\n",
       "      <td>63.957597</td>\n",
       "      <td>Meta no Superada</td>\n",
       "    </tr>\n",
       "    <tr>\n",
       "      <th>Abril</th>\n",
       "      <td>33900</td>\n",
       "      <td>35700</td>\n",
       "      <td>105.309735</td>\n",
       "      <td>Meta Superada</td>\n",
       "    </tr>\n",
       "    <tr>\n",
       "      <th>Mayo</th>\n",
       "      <td>42500</td>\n",
       "      <td>32450</td>\n",
       "      <td>76.352941</td>\n",
       "      <td>Meta Superada</td>\n",
       "    </tr>\n",
       "  </tbody>\n",
       "</table>\n",
       "</div>"
      ],
      "text/plain": [
       "         Ventas  Gastos    Columna1          Columna2\n",
       "Mes                                                  \n",
       "Enero     30500   22000   72.131148     Meta Superada\n",
       "Febrero   35600   23450   65.870787     Meta Superada\n",
       "Marzo     28300   18100   63.957597  Meta no Superada\n",
       "Abril     33900   35700  105.309735     Meta Superada\n",
       "Mayo      42500   32450   76.352941     Meta Superada"
      ]
     },
     "execution_count": 75,
     "metadata": {},
     "output_type": "execute_result"
    }
   ],
   "source": [
    "df"
   ]
  },
  {
   "cell_type": "code",
   "execution_count": 76,
   "id": "464f0ce8",
   "metadata": {},
   "outputs": [],
   "source": [
    "#calculo columna 3, sobre gastos\n",
    "df['Columna3'] = np.where(df['Gastos'] > df['Ventas'], df['Gastos'] - df['Ventas'], 0)"
   ]
  },
  {
   "cell_type": "code",
   "execution_count": 77,
   "id": "3c76e7c8",
   "metadata": {},
   "outputs": [
    {
     "data": {
      "text/html": [
       "<div>\n",
       "<style scoped>\n",
       "    .dataframe tbody tr th:only-of-type {\n",
       "        vertical-align: middle;\n",
       "    }\n",
       "\n",
       "    .dataframe tbody tr th {\n",
       "        vertical-align: top;\n",
       "    }\n",
       "\n",
       "    .dataframe thead th {\n",
       "        text-align: right;\n",
       "    }\n",
       "</style>\n",
       "<table border=\"1\" class=\"dataframe\">\n",
       "  <thead>\n",
       "    <tr style=\"text-align: right;\">\n",
       "      <th></th>\n",
       "      <th>Ventas</th>\n",
       "      <th>Gastos</th>\n",
       "      <th>Columna1</th>\n",
       "      <th>Columna2</th>\n",
       "      <th>Columna3</th>\n",
       "    </tr>\n",
       "    <tr>\n",
       "      <th>Mes</th>\n",
       "      <th></th>\n",
       "      <th></th>\n",
       "      <th></th>\n",
       "      <th></th>\n",
       "      <th></th>\n",
       "    </tr>\n",
       "  </thead>\n",
       "  <tbody>\n",
       "    <tr>\n",
       "      <th>Enero</th>\n",
       "      <td>30500</td>\n",
       "      <td>22000</td>\n",
       "      <td>72.131148</td>\n",
       "      <td>Meta Superada</td>\n",
       "      <td>0</td>\n",
       "    </tr>\n",
       "    <tr>\n",
       "      <th>Febrero</th>\n",
       "      <td>35600</td>\n",
       "      <td>23450</td>\n",
       "      <td>65.870787</td>\n",
       "      <td>Meta Superada</td>\n",
       "      <td>0</td>\n",
       "    </tr>\n",
       "    <tr>\n",
       "      <th>Marzo</th>\n",
       "      <td>28300</td>\n",
       "      <td>18100</td>\n",
       "      <td>63.957597</td>\n",
       "      <td>Meta no Superada</td>\n",
       "      <td>0</td>\n",
       "    </tr>\n",
       "    <tr>\n",
       "      <th>Abril</th>\n",
       "      <td>33900</td>\n",
       "      <td>35700</td>\n",
       "      <td>105.309735</td>\n",
       "      <td>Meta Superada</td>\n",
       "      <td>1800</td>\n",
       "    </tr>\n",
       "    <tr>\n",
       "      <th>Mayo</th>\n",
       "      <td>42500</td>\n",
       "      <td>32450</td>\n",
       "      <td>76.352941</td>\n",
       "      <td>Meta Superada</td>\n",
       "      <td>0</td>\n",
       "    </tr>\n",
       "  </tbody>\n",
       "</table>\n",
       "</div>"
      ],
      "text/plain": [
       "         Ventas  Gastos    Columna1          Columna2  Columna3\n",
       "Mes                                                            \n",
       "Enero     30500   22000   72.131148     Meta Superada         0\n",
       "Febrero   35600   23450   65.870787     Meta Superada         0\n",
       "Marzo     28300   18100   63.957597  Meta no Superada         0\n",
       "Abril     33900   35700  105.309735     Meta Superada      1800\n",
       "Mayo      42500   32450   76.352941     Meta Superada         0"
      ]
     },
     "execution_count": 77,
     "metadata": {},
     "output_type": "execute_result"
    }
   ],
   "source": [
    "df"
   ]
  },
  {
   "cell_type": "code",
   "execution_count": 78,
   "id": "2bd9d026",
   "metadata": {},
   "outputs": [
    {
     "data": {
      "text/plain": [
       "104700"
      ]
     },
     "execution_count": 78,
     "metadata": {},
     "output_type": "execute_result"
    }
   ],
   "source": [
    "#ventas ultimos 3 meses\n",
    "df['Ventas'].tail(3).sum()"
   ]
  },
  {
   "cell_type": "code",
   "execution_count": 79,
   "id": "a31c4209",
   "metadata": {},
   "outputs": [],
   "source": [
    "#indexamos por mes\n",
    "df = df.reset_index('Mes')"
   ]
  },
  {
   "cell_type": "code",
   "execution_count": 82,
   "id": "fe25ce74",
   "metadata": {
    "scrolled": true
   },
   "outputs": [
    {
     "data": {
      "text/html": [
       "<div>\n",
       "<style scoped>\n",
       "    .dataframe tbody tr th:only-of-type {\n",
       "        vertical-align: middle;\n",
       "    }\n",
       "\n",
       "    .dataframe tbody tr th {\n",
       "        vertical-align: top;\n",
       "    }\n",
       "\n",
       "    .dataframe thead th {\n",
       "        text-align: right;\n",
       "    }\n",
       "</style>\n",
       "<table border=\"1\" class=\"dataframe\">\n",
       "  <thead>\n",
       "    <tr style=\"text-align: right;\">\n",
       "      <th></th>\n",
       "      <th>Mes</th>\n",
       "      <th>Ventas</th>\n",
       "      <th>Gastos</th>\n",
       "      <th>Columna1</th>\n",
       "      <th>Columna2</th>\n",
       "      <th>Columna3</th>\n",
       "    </tr>\n",
       "  </thead>\n",
       "  <tbody>\n",
       "    <tr>\n",
       "      <th>0</th>\n",
       "      <td>Enero</td>\n",
       "      <td>30500</td>\n",
       "      <td>22000</td>\n",
       "      <td>72.131148</td>\n",
       "      <td>Meta Superada</td>\n",
       "      <td>0</td>\n",
       "    </tr>\n",
       "    <tr>\n",
       "      <th>1</th>\n",
       "      <td>Febrero</td>\n",
       "      <td>35600</td>\n",
       "      <td>23450</td>\n",
       "      <td>65.870787</td>\n",
       "      <td>Meta Superada</td>\n",
       "      <td>0</td>\n",
       "    </tr>\n",
       "    <tr>\n",
       "      <th>2</th>\n",
       "      <td>Marzo</td>\n",
       "      <td>28300</td>\n",
       "      <td>18100</td>\n",
       "      <td>63.957597</td>\n",
       "      <td>Meta no Superada</td>\n",
       "      <td>0</td>\n",
       "    </tr>\n",
       "    <tr>\n",
       "      <th>3</th>\n",
       "      <td>Abril</td>\n",
       "      <td>33900</td>\n",
       "      <td>35700</td>\n",
       "      <td>105.309735</td>\n",
       "      <td>Meta Superada</td>\n",
       "      <td>1800</td>\n",
       "    </tr>\n",
       "    <tr>\n",
       "      <th>4</th>\n",
       "      <td>Mayo</td>\n",
       "      <td>42500</td>\n",
       "      <td>32450</td>\n",
       "      <td>76.352941</td>\n",
       "      <td>Meta Superada</td>\n",
       "      <td>0</td>\n",
       "    </tr>\n",
       "  </tbody>\n",
       "</table>\n",
       "</div>"
      ],
      "text/plain": [
       "       Mes  Ventas  Gastos    Columna1          Columna2  Columna3\n",
       "0    Enero   30500   22000   72.131148     Meta Superada         0\n",
       "1  Febrero   35600   23450   65.870787     Meta Superada         0\n",
       "2    Marzo   28300   18100   63.957597  Meta no Superada         0\n",
       "3    Abril   33900   35700  105.309735     Meta Superada      1800\n",
       "4     Mayo   42500   32450   76.352941     Meta Superada         0"
      ]
     },
     "execution_count": 82,
     "metadata": {},
     "output_type": "execute_result"
    }
   ],
   "source": [
    "df"
   ]
  },
  {
   "cell_type": "code",
   "execution_count": 95,
   "id": "388dba8f",
   "metadata": {},
   "outputs": [],
   "source": [
    "#df.iloc[df.Mes['Febrero':'Abril']]\n",
    "df = df.set_index('Mes')"
   ]
  },
  {
   "cell_type": "code",
   "execution_count": 96,
   "id": "0fa8b7bc",
   "metadata": {},
   "outputs": [
    {
     "data": {
      "text/html": [
       "<div>\n",
       "<style scoped>\n",
       "    .dataframe tbody tr th:only-of-type {\n",
       "        vertical-align: middle;\n",
       "    }\n",
       "\n",
       "    .dataframe tbody tr th {\n",
       "        vertical-align: top;\n",
       "    }\n",
       "\n",
       "    .dataframe thead th {\n",
       "        text-align: right;\n",
       "    }\n",
       "</style>\n",
       "<table border=\"1\" class=\"dataframe\">\n",
       "  <thead>\n",
       "    <tr style=\"text-align: right;\">\n",
       "      <th></th>\n",
       "      <th>Ventas</th>\n",
       "      <th>Gastos</th>\n",
       "      <th>Columna1</th>\n",
       "      <th>Columna2</th>\n",
       "      <th>Columna3</th>\n",
       "    </tr>\n",
       "    <tr>\n",
       "      <th>Mes</th>\n",
       "      <th></th>\n",
       "      <th></th>\n",
       "      <th></th>\n",
       "      <th></th>\n",
       "      <th></th>\n",
       "    </tr>\n",
       "  </thead>\n",
       "  <tbody>\n",
       "    <tr>\n",
       "      <th>Enero</th>\n",
       "      <td>30500</td>\n",
       "      <td>22000</td>\n",
       "      <td>72.131148</td>\n",
       "      <td>Meta Superada</td>\n",
       "      <td>0</td>\n",
       "    </tr>\n",
       "    <tr>\n",
       "      <th>Febrero</th>\n",
       "      <td>35600</td>\n",
       "      <td>23450</td>\n",
       "      <td>65.870787</td>\n",
       "      <td>Meta Superada</td>\n",
       "      <td>0</td>\n",
       "    </tr>\n",
       "    <tr>\n",
       "      <th>Marzo</th>\n",
       "      <td>28300</td>\n",
       "      <td>18100</td>\n",
       "      <td>63.957597</td>\n",
       "      <td>Meta no Superada</td>\n",
       "      <td>0</td>\n",
       "    </tr>\n",
       "    <tr>\n",
       "      <th>Abril</th>\n",
       "      <td>33900</td>\n",
       "      <td>35700</td>\n",
       "      <td>105.309735</td>\n",
       "      <td>Meta Superada</td>\n",
       "      <td>1800</td>\n",
       "    </tr>\n",
       "    <tr>\n",
       "      <th>Mayo</th>\n",
       "      <td>42500</td>\n",
       "      <td>32450</td>\n",
       "      <td>76.352941</td>\n",
       "      <td>Meta Superada</td>\n",
       "      <td>0</td>\n",
       "    </tr>\n",
       "  </tbody>\n",
       "</table>\n",
       "</div>"
      ],
      "text/plain": [
       "         Ventas  Gastos    Columna1          Columna2  Columna3\n",
       "Mes                                                            \n",
       "Enero     30500   22000   72.131148     Meta Superada         0\n",
       "Febrero   35600   23450   65.870787     Meta Superada         0\n",
       "Marzo     28300   18100   63.957597  Meta no Superada         0\n",
       "Abril     33900   35700  105.309735     Meta Superada      1800\n",
       "Mayo      42500   32450   76.352941     Meta Superada         0"
      ]
     },
     "execution_count": 96,
     "metadata": {},
     "output_type": "execute_result"
    }
   ],
   "source": [
    "df"
   ]
  },
  {
   "cell_type": "code",
   "execution_count": 100,
   "id": "574a13de",
   "metadata": {},
   "outputs": [],
   "source": [
    "#gastos de febrero a abril\n",
    "df = df.loc['Febrero':'Abril']"
   ]
  },
  {
   "cell_type": "code",
   "execution_count": 102,
   "id": "f92ba240",
   "metadata": {},
   "outputs": [
    {
     "data": {
      "text/plain": [
       "Mes\n",
       "Febrero    23450\n",
       "Marzo      18100\n",
       "Abril      35700\n",
       "Name: Gastos, dtype: int64"
      ]
     },
     "execution_count": 102,
     "metadata": {},
     "output_type": "execute_result"
    }
   ],
   "source": [
    "df['Gastos']"
   ]
  },
  {
   "cell_type": "code",
   "execution_count": null,
   "id": "c07803c3",
   "metadata": {},
   "outputs": [],
   "source": []
  }
 ],
 "metadata": {
  "kernelspec": {
   "display_name": "Python 3 (ipykernel)",
   "language": "python",
   "name": "python3"
  },
  "language_info": {
   "codemirror_mode": {
    "name": "ipython",
    "version": 3
   },
   "file_extension": ".py",
   "mimetype": "text/x-python",
   "name": "python",
   "nbconvert_exporter": "python",
   "pygments_lexer": "ipython3",
   "version": "3.9.7"
  }
 },
 "nbformat": 4,
 "nbformat_minor": 5
}
