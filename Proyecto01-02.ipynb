{
 "cells": [
  {
   "cell_type": "code",
   "execution_count": 1,
   "id": "af226562",
   "metadata": {},
   "outputs": [],
   "source": [
    "import pandas as pd"
   ]
  },
  {
   "cell_type": "code",
   "execution_count": null,
   "id": "48c710dc",
   "metadata": {},
   "outputs": [],
   "source": [
    "#Escribir un programa que reciba un diccionario con los ingresos mensuales de los clientes de una empresa, \n",
    "#y devuelva una serie con el ingreso mínimo, máximo y media."
   ]
  },
  {
   "cell_type": "code",
   "execution_count": 18,
   "id": "92a9edb8",
   "metadata": {},
   "outputs": [],
   "source": [
    "#diccionario\n",
    "ingresos = {\"enero\":4000,\"febero\":5000, \"marzo\": 6000}"
   ]
  },
  {
   "cell_type": "code",
   "execution_count": 19,
   "id": "3834e5ea",
   "metadata": {},
   "outputs": [],
   "source": [
    "#se crea la serie\n",
    "ingresos = pd.Series(ingresos)"
   ]
  },
  {
   "cell_type": "code",
   "execution_count": 20,
   "id": "ec729f8e",
   "metadata": {},
   "outputs": [],
   "source": [
    "#calculo de estadisticos minimo, maximo y media\n",
    "estadisticos = pd.Series([ingresos.min(),ingresos.max(), ingresos.mean()], index=['Min','Max','Media'])"
   ]
  },
  {
   "cell_type": "code",
   "execution_count": 21,
   "id": "f69a02db",
   "metadata": {},
   "outputs": [
    {
     "data": {
      "text/plain": [
       "Min      4000.0\n",
       "Max      6000.0\n",
       "Media    5000.0\n",
       "dtype: float64"
      ]
     },
     "execution_count": 21,
     "metadata": {},
     "output_type": "execute_result"
    }
   ],
   "source": [
    "estadisticos"
   ]
  },
  {
   "cell_type": "code",
   "execution_count": null,
   "id": "fb24e3c9",
   "metadata": {},
   "outputs": [],
   "source": []
  }
 ],
 "metadata": {
  "kernelspec": {
   "display_name": "Python 3 (ipykernel)",
   "language": "python",
   "name": "python3"
  },
  "language_info": {
   "codemirror_mode": {
    "name": "ipython",
    "version": 3
   },
   "file_extension": ".py",
   "mimetype": "text/x-python",
   "name": "python",
   "nbconvert_exporter": "python",
   "pygments_lexer": "ipython3",
   "version": "3.9.7"
  }
 },
 "nbformat": 4,
 "nbformat_minor": 5
}
